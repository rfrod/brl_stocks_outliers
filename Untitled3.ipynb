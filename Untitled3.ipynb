{
  "nbformat": 4,
  "nbformat_minor": 0,
  "metadata": {
    "colab": {
      "name": "Untitled3.ipynb",
      "provenance": [],
      "collapsed_sections": [],
      "authorship_tag": "ABX9TyPcWHlDxSoETC9COsmwGwJH",
      "include_colab_link": true
    },
    "kernelspec": {
      "name": "python3",
      "display_name": "Python 3"
    },
    "language_info": {
      "name": "python"
    }
  },
  "cells": [
    {
      "cell_type": "markdown",
      "metadata": {
        "id": "view-in-github",
        "colab_type": "text"
      },
      "source": [
        "<a href=\"https://colab.research.google.com/github/rfrod/brl_stocks_outliers/blob/main/Untitled3.ipynb\" target=\"_parent\"><img src=\"https://colab.research.google.com/assets/colab-badge.svg\" alt=\"Open In Colab\"/></a>"
      ]
    },
    {
      "cell_type": "markdown",
      "metadata": {
        "id": "zho47d-qehp6"
      },
      "source": [
        "#Desvio Padrão aplicado à Rentabilidade"
      ]
    },
    {
      "cell_type": "markdown",
      "metadata": {
        "id": "WodOy2ulevfD"
      },
      "source": [
        "##1. Bibliotecas"
      ]
    },
    {
      "cell_type": "code",
      "metadata": {
        "colab": {
          "base_uri": "https://localhost:8080/",
          "height": 718
        },
        "id": "X0l16BcXegwp",
        "outputId": "e8644b11-990e-4983-dcf7-27d30519f745"
      },
      "source": [
        "import numpy as np\n",
        "import pandas as pd\n",
        "import matplotlib.pyplot as plt\n",
        "import pandas_datareader.data as web\n",
        "import seaborn as sns\n",
        "\n",
        "!pip install investpy --upgrade --no-cache-dir"
      ],
      "execution_count": 1,
      "outputs": [
        {
          "output_type": "stream",
          "text": [
            "Collecting investpy\n",
            "\u001b[?25l  Downloading https://files.pythonhosted.org/packages/c3/7e/549ee85b6cebe2b96b02b20ed7158075ad3d7054177c1cdd9e07f04a7992/investpy-1.0.7.tar.gz (4.4MB)\n",
            "\u001b[K     |████████████████████████████████| 4.4MB 10.9MB/s \n",
            "\u001b[?25hCollecting Unidecode>=1.1.1\n",
            "\u001b[?25l  Downloading https://files.pythonhosted.org/packages/9e/25/723487ca2a52ebcee88a34d7d1f5a4b80b793f179ee0f62d5371938dfa01/Unidecode-1.2.0-py2.py3-none-any.whl (241kB)\n",
            "\u001b[K     |████████████████████████████████| 245kB 39.2MB/s \n",
            "\u001b[?25hRequirement already satisfied, skipping upgrade: setuptools>=41.2.0 in /usr/local/lib/python3.7/dist-packages (from investpy) (57.0.0)\n",
            "Requirement already satisfied, skipping upgrade: numpy>=1.17.2 in /usr/local/lib/python3.7/dist-packages (from investpy) (1.19.5)\n",
            "Requirement already satisfied, skipping upgrade: pandas>=0.25.1 in /usr/local/lib/python3.7/dist-packages (from investpy) (1.1.5)\n",
            "Collecting lxml>=4.4.1\n",
            "\u001b[?25l  Downloading https://files.pythonhosted.org/packages/30/c0/d0526314971fc661b083ab135747dc68446a3022686da8c16d25fcf6ef07/lxml-4.6.3-cp37-cp37m-manylinux2014_x86_64.whl (6.3MB)\n",
            "\u001b[K     |████████████████████████████████| 6.3MB 38.3MB/s \n",
            "\u001b[?25hRequirement already satisfied, skipping upgrade: requests>=2.22.0 in /usr/local/lib/python3.7/dist-packages (from investpy) (2.23.0)\n",
            "Collecting pytz>=2019.3\n",
            "\u001b[?25l  Downloading https://files.pythonhosted.org/packages/70/94/784178ca5dd892a98f113cdd923372024dc04b8d40abe77ca76b5fb90ca6/pytz-2021.1-py2.py3-none-any.whl (510kB)\n",
            "\u001b[K     |████████████████████████████████| 512kB 38.5MB/s \n",
            "\u001b[?25hRequirement already satisfied, skipping upgrade: python-dateutil>=2.7.3 in /usr/local/lib/python3.7/dist-packages (from pandas>=0.25.1->investpy) (2.8.1)\n",
            "Requirement already satisfied, skipping upgrade: urllib3!=1.25.0,!=1.25.1,<1.26,>=1.21.1 in /usr/local/lib/python3.7/dist-packages (from requests>=2.22.0->investpy) (1.24.3)\n",
            "Requirement already satisfied, skipping upgrade: certifi>=2017.4.17 in /usr/local/lib/python3.7/dist-packages (from requests>=2.22.0->investpy) (2021.5.30)\n",
            "Requirement already satisfied, skipping upgrade: idna<3,>=2.5 in /usr/local/lib/python3.7/dist-packages (from requests>=2.22.0->investpy) (2.10)\n",
            "Requirement already satisfied, skipping upgrade: chardet<4,>=3.0.2 in /usr/local/lib/python3.7/dist-packages (from requests>=2.22.0->investpy) (3.0.4)\n",
            "Requirement already satisfied, skipping upgrade: six>=1.5 in /usr/local/lib/python3.7/dist-packages (from python-dateutil>=2.7.3->pandas>=0.25.1->investpy) (1.15.0)\n",
            "Building wheels for collected packages: investpy\n",
            "  Building wheel for investpy (setup.py) ... \u001b[?25l\u001b[?25hdone\n",
            "  Created wheel for investpy: filename=investpy-1.0.7-cp37-none-any.whl size=4495223 sha256=aa324fbec7a540cfe0ffa6b3342a5963fb8b5c0bdf20eeb14f9352dc81c82890\n",
            "  Stored in directory: /tmp/pip-ephem-wheel-cache-9yazb_vh/wheels/09/7e/f9/df627561fc57278456e61aa9c63a03dd08e436eb7deab834f0\n",
            "Successfully built investpy\n",
            "Installing collected packages: Unidecode, lxml, pytz, investpy\n",
            "  Found existing installation: lxml 4.2.6\n",
            "    Uninstalling lxml-4.2.6:\n",
            "      Successfully uninstalled lxml-4.2.6\n",
            "  Found existing installation: pytz 2018.9\n",
            "    Uninstalling pytz-2018.9:\n",
            "      Successfully uninstalled pytz-2018.9\n",
            "Successfully installed Unidecode-1.2.0 investpy-1.0.7 lxml-4.6.3 pytz-2021.1\n"
          ],
          "name": "stdout"
        },
        {
          "output_type": "display_data",
          "data": {
            "application/vnd.colab-display-data+json": {
              "pip_warning": {
                "packages": [
                  "pytz"
                ]
              }
            }
          },
          "metadata": {
            "tags": []
          }
        }
      ]
    },
    {
      "cell_type": "markdown",
      "metadata": {
        "id": "h6eQKKAVfGAQ"
      },
      "source": [
        "##2. Obtendo dados do mercado"
      ]
    },
    {
      "cell_type": "markdown",
      "metadata": {
        "id": "4IV191A3faN3"
      },
      "source": [
        "Pequena amostra da estrutura de dados do Yahoo"
      ]
    },
    {
      "cell_type": "code",
      "metadata": {
        "colab": {
          "base_uri": "https://localhost:8080/",
          "height": 235
        },
        "id": "BeMAn5eWfKbO",
        "outputId": "fee139b8-2ae9-457a-c414-7278bf140598"
      },
      "source": [
        "import investpy\n",
        "#investpy.get_stock_historical_data(stock='bbva', country='spain', from_date='01/01/2010', to_date='01/01/2019')\n",
        "vale = investpy.get_stock_historical_data('vale3', 'brazil', from_date='01/05/2016', to_date='01/06/2021', order='ascending', interval='Monthly')\n",
        "vale.head()"
      ],
      "execution_count": 2,
      "outputs": [
        {
          "output_type": "execute_result",
          "data": {
            "text/html": [
              "<div>\n",
              "<style scoped>\n",
              "    .dataframe tbody tr th:only-of-type {\n",
              "        vertical-align: middle;\n",
              "    }\n",
              "\n",
              "    .dataframe tbody tr th {\n",
              "        vertical-align: top;\n",
              "    }\n",
              "\n",
              "    .dataframe thead th {\n",
              "        text-align: right;\n",
              "    }\n",
              "</style>\n",
              "<table border=\"1\" class=\"dataframe\">\n",
              "  <thead>\n",
              "    <tr style=\"text-align: right;\">\n",
              "      <th></th>\n",
              "      <th>Open</th>\n",
              "      <th>High</th>\n",
              "      <th>Low</th>\n",
              "      <th>Close</th>\n",
              "      <th>Volume</th>\n",
              "      <th>Currency</th>\n",
              "    </tr>\n",
              "    <tr>\n",
              "      <th>Date</th>\n",
              "      <th></th>\n",
              "      <th></th>\n",
              "      <th></th>\n",
              "      <th></th>\n",
              "      <th></th>\n",
              "      <th></th>\n",
              "    </tr>\n",
              "  </thead>\n",
              "  <tbody>\n",
              "    <tr>\n",
              "      <th>2016-05-01</th>\n",
              "      <td>17.23</td>\n",
              "      <td>17.37</td>\n",
              "      <td>11.68</td>\n",
              "      <td>12.16</td>\n",
              "      <td>166446208</td>\n",
              "      <td>BRL</td>\n",
              "    </tr>\n",
              "    <tr>\n",
              "      <th>2016-06-01</th>\n",
              "      <td>12.05</td>\n",
              "      <td>14.84</td>\n",
              "      <td>11.80</td>\n",
              "      <td>13.92</td>\n",
              "      <td>137992704</td>\n",
              "      <td>BRL</td>\n",
              "    </tr>\n",
              "    <tr>\n",
              "      <th>2016-07-01</th>\n",
              "      <td>13.95</td>\n",
              "      <td>16.42</td>\n",
              "      <td>13.27</td>\n",
              "      <td>15.82</td>\n",
              "      <td>127396896</td>\n",
              "      <td>BRL</td>\n",
              "    </tr>\n",
              "    <tr>\n",
              "      <th>2016-08-01</th>\n",
              "      <td>16.08</td>\n",
              "      <td>16.59</td>\n",
              "      <td>14.40</td>\n",
              "      <td>14.49</td>\n",
              "      <td>129655800</td>\n",
              "      <td>BRL</td>\n",
              "    </tr>\n",
              "    <tr>\n",
              "      <th>2016-09-01</th>\n",
              "      <td>14.58</td>\n",
              "      <td>15.76</td>\n",
              "      <td>13.82</td>\n",
              "      <td>15.23</td>\n",
              "      <td>103533600</td>\n",
              "      <td>BRL</td>\n",
              "    </tr>\n",
              "  </tbody>\n",
              "</table>\n",
              "</div>"
            ],
            "text/plain": [
              "             Open   High    Low  Close     Volume Currency\n",
              "Date                                                      \n",
              "2016-05-01  17.23  17.37  11.68  12.16  166446208      BRL\n",
              "2016-06-01  12.05  14.84  11.80  13.92  137992704      BRL\n",
              "2016-07-01  13.95  16.42  13.27  15.82  127396896      BRL\n",
              "2016-08-01  16.08  16.59  14.40  14.49  129655800      BRL\n",
              "2016-09-01  14.58  15.76  13.82  15.23  103533600      BRL"
            ]
          },
          "metadata": {
            "tags": []
          },
          "execution_count": 2
        }
      ]
    },
    {
      "cell_type": "markdown",
      "metadata": {
        "id": "QoIP8Z_UhkMg"
      },
      "source": [
        "Adding % Variation column"
      ]
    },
    {
      "cell_type": "code",
      "metadata": {
        "colab": {
          "base_uri": "https://localhost:8080/",
          "height": 235
        },
        "id": "QAZCVNNwfhvB",
        "outputId": "03abe32d-0f23-456c-c4db-8e4b63556d42"
      },
      "source": [
        "vale.loc[vale.first_valid_index(),'Var%'] = 0\n",
        "\n",
        "for i in range(1, len(vale)):\n",
        "  vale.iloc[i, vale.columns.get_loc('Var%')] = (vale.iloc[i]['Close'] / vale.iloc[i-1]['Close'] - 1) \n",
        "  \n",
        "vale.tail()"
      ],
      "execution_count": 4,
      "outputs": [
        {
          "output_type": "execute_result",
          "data": {
            "text/html": [
              "<div>\n",
              "<style scoped>\n",
              "    .dataframe tbody tr th:only-of-type {\n",
              "        vertical-align: middle;\n",
              "    }\n",
              "\n",
              "    .dataframe tbody tr th {\n",
              "        vertical-align: top;\n",
              "    }\n",
              "\n",
              "    .dataframe thead th {\n",
              "        text-align: right;\n",
              "    }\n",
              "</style>\n",
              "<table border=\"1\" class=\"dataframe\">\n",
              "  <thead>\n",
              "    <tr style=\"text-align: right;\">\n",
              "      <th></th>\n",
              "      <th>Open</th>\n",
              "      <th>High</th>\n",
              "      <th>Low</th>\n",
              "      <th>Close</th>\n",
              "      <th>Volume</th>\n",
              "      <th>Currency</th>\n",
              "      <th>Var%</th>\n",
              "    </tr>\n",
              "    <tr>\n",
              "      <th>Date</th>\n",
              "      <th></th>\n",
              "      <th></th>\n",
              "      <th></th>\n",
              "      <th></th>\n",
              "      <th></th>\n",
              "      <th></th>\n",
              "      <th></th>\n",
              "    </tr>\n",
              "  </thead>\n",
              "  <tbody>\n",
              "    <tr>\n",
              "      <th>2021-02-01</th>\n",
              "      <td>90.01</td>\n",
              "      <td>98.95</td>\n",
              "      <td>87.51</td>\n",
              "      <td>94.52</td>\n",
              "      <td>550701504</td>\n",
              "      <td>BRL</td>\n",
              "      <td>0.074702</td>\n",
              "    </tr>\n",
              "    <tr>\n",
              "      <th>2021-03-01</th>\n",
              "      <td>91.86</td>\n",
              "      <td>101.93</td>\n",
              "      <td>90.61</td>\n",
              "      <td>97.97</td>\n",
              "      <td>672158976</td>\n",
              "      <td>BRL</td>\n",
              "      <td>0.036500</td>\n",
              "    </tr>\n",
              "    <tr>\n",
              "      <th>2021-04-01</th>\n",
              "      <td>98.50</td>\n",
              "      <td>112.95</td>\n",
              "      <td>96.13</td>\n",
              "      <td>109.02</td>\n",
              "      <td>453237184</td>\n",
              "      <td>BRL</td>\n",
              "      <td>0.112790</td>\n",
              "    </tr>\n",
              "    <tr>\n",
              "      <th>2021-05-01</th>\n",
              "      <td>109.70</td>\n",
              "      <td>120.45</td>\n",
              "      <td>106.03</td>\n",
              "      <td>114.78</td>\n",
              "      <td>587384128</td>\n",
              "      <td>BRL</td>\n",
              "      <td>0.052834</td>\n",
              "    </tr>\n",
              "    <tr>\n",
              "      <th>2021-06-01</th>\n",
              "      <td>114.73</td>\n",
              "      <td>115.71</td>\n",
              "      <td>102.87</td>\n",
              "      <td>113.25</td>\n",
              "      <td>533956096</td>\n",
              "      <td>BRL</td>\n",
              "      <td>-0.013330</td>\n",
              "    </tr>\n",
              "  </tbody>\n",
              "</table>\n",
              "</div>"
            ],
            "text/plain": [
              "              Open    High     Low   Close     Volume Currency      Var%\n",
              "Date                                                                    \n",
              "2021-02-01   90.01   98.95   87.51   94.52  550701504      BRL  0.074702\n",
              "2021-03-01   91.86  101.93   90.61   97.97  672158976      BRL  0.036500\n",
              "2021-04-01   98.50  112.95   96.13  109.02  453237184      BRL  0.112790\n",
              "2021-05-01  109.70  120.45  106.03  114.78  587384128      BRL  0.052834\n",
              "2021-06-01  114.73  115.71  102.87  113.25  533956096      BRL -0.013330"
            ]
          },
          "metadata": {
            "tags": []
          },
          "execution_count": 4
        }
      ]
    },
    {
      "cell_type": "code",
      "metadata": {
        "colab": {
          "base_uri": "https://localhost:8080/",
          "height": 519
        },
        "id": "ol7LEhE8Cl71",
        "outputId": "125e3c11-3b0e-4995-90df-e36b7e2c939f"
      },
      "source": [
        "sns.set()\n",
        "vale['Var%'].plot(figsize=(22,8))"
      ],
      "execution_count": null,
      "outputs": [
        {
          "output_type": "execute_result",
          "data": {
            "text/plain": [
              "<matplotlib.axes._subplots.AxesSubplot at 0x7f9e9cc99110>"
            ]
          },
          "metadata": {
            "tags": []
          },
          "execution_count": 222
        },
        {
          "output_type": "display_data",
          "data": {
            "image/png": "[encoded data removed]",
            "text/plain": [
              "<Figure size 1584x576 with 1 Axes>"
            ]
          },
          "metadata": {
            "tags": []
          }
        }
      ]
    },
    {
      "cell_type": "code",
      "metadata": {
        "colab": {
          "base_uri": "https://localhost:8080/"
        },
        "id": "vi4WK-NiiElH",
        "outputId": "cf89c545-39ac-4b3c-cc5a-5c82f2981cbf"
      },
      "source": [
        "media = vale['Var%'].mean()\n",
        "desvio = vale['Var%'].std()\n",
        "\n",
        "print('Média', media)\n",
        "print('Desvio', desvio)\n",
        "vale_hj = investpy.get_stock_historical_data('vale3', 'brazil', from_date='24/06/2021', to_date='25/06/2021')['Close']\n",
        "\n",
        "print(vale_hj)"
      ],
      "execution_count": null,
      "outputs": [
        {
          "output_type": "stream",
          "text": [
            "Média 0.040567244323561444\n",
            "Desvio 0.09311021577022464\n",
            "Date\n",
            "2021-06-24    111.03\n",
            "2021-06-25    112.40\n",
            "Name: Close, dtype: float64\n"
          ],
          "name": "stdout"
        }
      ]
    },
    {
      "cell_type": "code",
      "metadata": {
        "colab": {
          "base_uri": "https://localhost:8080/"
        },
        "id": "xs6QrlnG8Oqx",
        "outputId": "3f7b4125-99bf-4d81-fea2-57ec68968ba2"
      },
      "source": [
        "print('Preço atual: ', vale_hj['2021-06-25'])\n",
        "print('Preço ontem: ', vale.loc[vale.last_valid_index()]['Close'])\n",
        "print('Média',  round(media*100,2), '%')\n",
        "print('Desvio',  round(desvio*100,2), '%')\n",
        "print('D-3: ', vale.loc[vale.last_valid_index()]['Close'] * (1 + (media - 3 * desvio)))\n",
        "print('D-2: ', vale.loc[vale.last_valid_index()]['Close'] * (1 + (media - 2 * desvio)))\n",
        "print('D+2: ', vale.loc[vale.last_valid_index()]['Close'] * (1 + (media + 2 * desvio)))\n",
        "print('D+3: ', vale.loc[vale.last_valid_index()]['Close'] * (1 + (media + 3 * desvio)))\n",
        "\n",
        "\n",
        "var_hj = (vale_hj['2021-06-25'] / vale.loc[vale.last_valid_index()]['Close'] - 1) * 100\n",
        "print('Var% Hoje:', var_hj)\n"
      ],
      "execution_count": null,
      "outputs": [
        {
          "output_type": "stream",
          "text": [
            "Preço atual:  112.4\n",
            "Preço ontem:  112.4\n",
            "Média 4.06 %\n",
            "Desvio 9.31 %\n",
            "D-3:  85.56299350424857\n",
            "D-2:  96.02858175682182\n",
            "D+2:  137.89093476711483\n",
            "D+3:  148.35652301968807\n",
            "Var% Hoje: 0.0\n"
          ],
          "name": "stdout"
        }
      ]
    },
    {
      "cell_type": "markdown",
      "metadata": {
        "id": "OmGvttf5fof9"
      },
      "source": [
        "### Lista das Ações para verificação"
      ]
    },
    {
      "cell_type": "code",
      "metadata": {
        "id": "L1VRyarcftFg"
      },
      "source": [
        "stocks = ['ABEV3.SA', \n",
        "          'B3SA3.SA',\n",
        "          'BBAS3.SA',\n",
        "          'BBDC3.SA',\n",
        "          'BBSE3.SA',\n",
        "          'BOVA11.SA',\n",
        "          'BRFS3.SA',\n",
        "          'BRKM5.SA',\n",
        "          'BRML3.SA',\n",
        "          'CCRO3.SA',\n",
        "          'CIEL3.SA',\n",
        "          'CMIG4.SA',\n",
        "          'COGN3.SA',\n",
        "          'CSAN3.SA',\n",
        "          'CSNA3.SA',\n",
        "          'CYRE3.SA',\n",
        "          'ECOR3.SA',\n",
        "          'EGIE3.SA',\n",
        "          'ELET3.SA',\n",
        "          'EMBR3.SA',\n",
        "          'EQTL3.SA',\n",
        "          'GGBR4.SA',\n",
        "          'GOAU4.SA',\n",
        "          'HYPE3.SA',\n",
        "          'IRBR3.SA',\n",
        "          'ITSA4.SA',\n",
        "          'ITUB4.SA',\n",
        "          'JBSS3.SA',\n",
        "          'LAME4.SA',\n",
        "          'LREN3.SA',\n",
        "          'MGLU3.SA',\n",
        "          'MRFG3.SA',\n",
        "          'NTCO3.SA',\n",
        "          'PETR4.SA',\n",
        "          'QUAL3.SA',\n",
        "          'RADL3.SA',\n",
        "          'RAIL3.SA',\n",
        "          'RENT3.SA',\n",
        "          'SBSP3.SA',\n",
        "          'SUZB3.SA',\n",
        "          'TAEE11.SA',\n",
        "          'USIM5.SA',\n",
        "          'VALE3.SA',\n",
        "          'VIVT3.SA',\n",
        "          'VVAR3.SA',\n",
        "          'WEGE3.SA',\n",
        "          'YDUQ3.SA']"
      ],
      "execution_count": null,
      "outputs": []
    },
    {
      "cell_type": "markdown",
      "metadata": {
        "id": "NX4imxXRjk2o"
      },
      "source": [
        "### 3. Função para checar outliers"
      ]
    },
    {
      "cell_type": "markdown",
      "metadata": {
        "id": "m6vbfwJU3zMB"
      },
      "source": [
        "* stock - String com o Ticker\n",
        "* years - Número com a quantidade de anos para baixar\n",
        "* d1 - Número de desvios padrão do 1o range\n",
        "* d2 - Número de desvios padrão do 2o range\n",
        "* verbose - imprimir os dados de cada ativo"
      ]
    },
    {
      "cell_type": "code",
      "metadata": {
        "id": "UYukUUgcERRT"
      },
      "source": [
        "import datetime\n",
        "\n",
        "def check_outlier(stock,years=5, d1 = 1, d2 =2, verbose=False):\n",
        "  today = datetime.date.today()\n",
        "  first = today.replace(day=1)\n",
        "  lastMonth = first - datetime.timedelta(days=1)\n",
        "  today_str = lastMonth.strftime(\"%d/%m/%Y\")\n",
        "  today_3 = today - datetime.timedelta(days=years*365)\n",
        "  today_3_str = today_3.strftime(\"%d/%m/%Y\")\n",
        "\n",
        "  stock_data = investpy.get_stock_historical_data(stock, 'brazil', from_date=today_3_str, to_date=today_str, order='ascending', interval='Monthly')\n",
        "\n",
        "  stock_data.loc[stock_data.first_valid_index(),'Var%'] = 0\n",
        "\n",
        "  for i in range(1, len(stock_data)):\n",
        "    stock_data.iloc[i, stock_data.columns.get_loc('Var%')] = (stock_data.iloc[i]['Close'] / stock_data.iloc[i-1]['Close'] - 1) \n",
        "  \n",
        "  media = stock_data['Var%'].mean()\n",
        "  desvio = stock_data['Var%'].std()\n",
        "\n",
        "  stock_hj = investpy.get_stock_historical_data(stock, 'brazil', from_date=(today- datetime.timedelta(days=1)).strftime(\"%d/%m/%Y\"), to_date=today.strftime(\"%d/%m/%Y\"))['Close']\n",
        "  d__ = stock_data.loc[stock_data.last_valid_index()]['Close'] * (1 + (media - d2 * desvio))\n",
        "  d_ = stock_data.loc[stock_data.last_valid_index()]['Close'] * (1 + (media - d1 * desvio))\n",
        "  dd = stock_data.loc[stock_data.last_valid_index()]['Close'] * (1 + (media + d1 * desvio))\n",
        "  ddd = stock_data.loc[stock_data.last_valid_index()]['Close'] * (1 + (media + d2 * desvio))\n",
        "\n",
        "  if verbose:\n",
        "    print('Preço atual: ', stock_hj['2021-06-25'])\n",
        "    print('Preço anterior: ', stock_data.loc[stock_data.last_valid_index()]['Close'])\n",
        "    print('Média',  round(media*100,2), '%')\n",
        "    print('Desvio',  round(desvio*100,2), '%')\n",
        "    print('D-- (', round((media - d2 * desvio)*100,2), '%):', round(d__,2))\n",
        "    print('D- (', round((media - d1 * desvio)*100,2), '%):', round(d__,2))\n",
        "    print('D+ (', round((media + d1 * desvio)*100,2), '%):', round(dd,2))\n",
        "    print('D++ (', round((media + d2 * desvio)*100,2), '%):', round(ddd,2))\n",
        "    var_hj = (stock_hj['2021-06-25'] / stock_data.loc[stock_data.last_valid_index()]['Close'] - 1) * 100\n",
        "    print('Var% Hoje:', var_hj)\n",
        "\n",
        "  if stock_hj['2021-06-25'] <= d__:\n",
        "    print('--',stock)\n",
        "  elif stock_hj['2021-06-25'] <= d_:\n",
        "    print('-',stock)\n",
        "\n",
        "  if stock_hj['2021-06-25'] >= ddd:\n",
        "    print('++',stock)\n",
        "  elif stock_hj['2021-06-25'] >= dd:\n",
        "    print('+',stock)"
      ],
      "execution_count": null,
      "outputs": []
    },
    {
      "cell_type": "markdown",
      "metadata": {
        "id": "LdOZEvVU3oam"
      },
      "source": [
        "### 4. Check"
      ]
    },
    {
      "cell_type": "code",
      "metadata": {
        "colab": {
          "base_uri": "https://localhost:8080/"
        },
        "id": "BepIyeqwWyyv",
        "outputId": "15e6b997-cccb-4c30-c019-e9329ceaef78"
      },
      "source": [
        "for stock in stocks:\n",
        "  try:\n",
        "    check_outlier(stock.replace(\".SA\", \"\"), d1=1.5)\n",
        "  except:\n",
        "    print(stock,'not found.')"
      ],
      "execution_count": null,
      "outputs": [
        {
          "output_type": "stream",
          "text": [
            "BOVA11.SA not found.\n",
            "NTCO3.SA not found.\n",
            "- RADL3\n"
          ],
          "name": "stdout"
        }
      ]
    },
    {
      "cell_type": "code",
      "metadata": {
        "colab": {
          "base_uri": "https://localhost:8080/"
        },
        "id": "aM4aGqu3Gh8I",
        "outputId": "ad0f6817-a980-4ac7-8247-cc3610951d36"
      },
      "source": [
        "check_outlier('radl3', d1 = 1.5, verbose=True)"
      ],
      "execution_count": null,
      "outputs": [
        {
          "output_type": "stream",
          "text": [
            "Preço atual:  24.72\n",
            "Preço anterior:  28.18\n",
            "Média 1.64 %\n",
            "Desvio 7.65 %\n",
            "D-- ( -13.66 %): 24.33\n",
            "D- ( -9.84 %): 24.33\n",
            "D+ ( 13.11 %): 31.87\n",
            "D++ ( 16.94 %): 32.95\n",
            "Var% Hoje: -12.278211497515967\n",
            "- radl3\n"
          ],
          "name": "stdout"
        }
      ]
    }
  ]
}